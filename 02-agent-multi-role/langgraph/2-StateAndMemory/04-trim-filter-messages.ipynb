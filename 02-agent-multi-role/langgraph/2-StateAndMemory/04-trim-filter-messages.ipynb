{
 "cells": [
  {
   "cell_type": "markdown",
   "id": "env_config_overview",
   "metadata": {
    "jp-MarkdownHeadingCollapsed": true
   },
   "source": [
    "### 🔧 环境配置和检查\n",
    "\n",
    "#### 概述\n",
    "\n",
    "本教程需要特定的环境配置以确保最佳学习体验。以下配置将帮助你：\n",
    "\n",
    "- 使用统一的conda环境：激活统一的学习环境\n",
    "- 通过国内镜像源快速安装依赖：配置pip使用清华镜像源\n",
    "- 加速模型下载：设置HuggingFace镜像代理\n",
    "- 检查系统配置：检查硬件和软件配置\n",
    "\n",
    "#### 配置\n",
    "\n",
    "- **所需环境及其依赖已经部署好**\n",
    "- 在`Notebook`右上角选择`jupyter内核`为`python(agent101)`，即可执行下方代码"
   ]
  },
  {
   "cell_type": "code",
   "execution_count": 1,
   "id": "env_conda_activate",
   "metadata": {},
   "outputs": [
    {
     "name": "stdout",
     "output_type": "stream",
     "text": [
      "=========================================\n",
      "== Conda 环境检查报告 (仅针对当前 Bash 子进��) ==\n",
      "=========================================\n",
      "✅ 当前单元格已成功激活到 agent101 环境。\n",
      "✅ 正在使用的环境路径: /root/miniconda3/envs/agent101\n",
      "\n",
      "💡 提示: 后续的Python单元格将使用Notebook当前选择的Jupyter��核。\n",
      "   如果需要后续单元格也使用此环境，请执行以下操作:\n",
      "   1. 检查 Notebook 右上角是否已选择 'python(agent101)'。\n",
      "=========================================\n"
     ]
    }
   ],
   "source": [
    "%%script bash\n",
    "\n",
    "# 1. 激活 conda 环境 (仅对当前单元格有效)\n",
    "eval \"$(conda shell.bash hook)\"\n",
    "conda activate agent101\n",
    "\n",
    "echo \"=========================================\"\n",
    "echo \"== Conda 环境检查报告 (仅针对当前 Bash 子进程) ==\"\n",
    "echo \"=========================================\"\n",
    "\n",
    "# 2. 检查当前激活的环境\n",
    "CURRENT_ENV_NAME=$(basename $CONDA_PREFIX)\n",
    "\n",
    "if [ \"$CURRENT_ENV_NAME\" = \"agent101\" ]; then\n",
    "    echo \"✅ 当前单元格已成功激活到 agent101 环境。\"\n",
    "    echo \"✅ 正在使用的环境路径: $CONDA_PREFIX\"\n",
    "    echo \"\"\n",
    "    echo \"💡 提示: 后续的Python单元格将使用Notebook当前选择的Jupyter内核。\"\n",
    "    echo \"   如果需要后续单元格也使用此环境，请执行以下操作:\"\n",
    "    echo \"   1. 检查 Notebook 右上角是否已选择 'python(agent101)'。\"\n",
    "else\n",
    "    echo \"❌ 激活失败或环境名称不匹配。当前环境: $CURRENT_ENV_NAME\"\n",
    "    echo \"\"\n",
    "    echo \"⚠️ 严重提示: 建议将 Notebook 的 Jupyter **内核 (Kernel)** 切换为 'python(agent101)'。\"\n",
    "    echo \"   (通常位于 Notebook 右上角或 '内核' 菜单中)\"\n",
    "    echo \"\"\n",
    "    echo \"📚 备用方法 (不推荐): 如果无法切换内核，则必须在**每个**代码单元格的头部重复以下命令:\"\n",
    "    echo \"\"\n",
    "    echo \"%%script bash\"\n",
    "    echo \"# 必须在每个单元格都执行\"\n",
    "    echo \"eval \\\"\\$(conda shell.bash hook)\\\"\"\n",
    "    echo \"conda activate agent101\"\n",
    "fi\n",
    "\n",
    "echo \"=========================================\" "
   ]
  },
  {
   "cell_type": "code",
   "execution_count": 2,
   "id": "env_pip_config",
   "metadata": {},
   "outputs": [
    {
     "name": "stdout",
     "output_type": "stream",
     "text": [
      "For variant 'global', will try loading '/etc/xdg/pip/pip.conf'\n",
      "For variant 'global', will try loading '/etc/pip.conf'\n",
      "For variant 'user', will try loading '/root/.pip/pip.conf'\n",
      "For variant 'user', will try loading '/root/.config/pip/pip.conf'\n",
      "For variant 'site', will try loading '/root/miniconda3/envs/agent101/pip.conf'\n",
      "\u001b[31mERROR: Got unexpected number of arguments, expected 0. (example: \"/root/miniconda3/envs/agent101/bin/python -m pip config list\")\u001b[0m\u001b[31m\n",
      "\u001b[0mNote: you may need to restart the kernel to use updated packages.\n",
      "For variant 'global', will try loading '/etc/xdg/pip/pip.conf'\n",
      "For variant 'global', will try loading '/etc/pip.conf'\n",
      "For variant 'user', will try loading '/root/.pip/pip.conf'\n",
      "For variant 'user', will try loading '/root/.config/pip/pip.conf'\n",
      "For variant 'site', will try loading '/root/miniconda3/envs/agent101/pip.conf'\n",
      "\u001b[31mERROR: Got unexpected number of arguments, expected 0. (example: \"/root/miniconda3/envs/agent101/bin/python -m pip config list\")\u001b[0m\u001b[31m\n",
      "\u001b[0mNote: you may need to restart the kernel to use updated packages.\n"
     ]
    }
   ],
   "source": [
    "# 2. 设置pip 为清华源\n",
    "%pip config list -v set global.index-url https://pypi.tuna.tsinghua.edu.cn/simple\n",
    "%pip config list -v list\n"
   ]
  },
  {
   "cell_type": "code",
   "execution_count": 3,
   "id": "env_hf_proxy",
   "metadata": {},
   "outputs": [
    {
     "name": "stdout",
     "output_type": "stream",
     "text": [
      "env: HF_ENDPOINT=https://hf-mirror.com\n",
      "https://hf-mirror.com\n"
     ]
    }
   ],
   "source": [
    "# 3. 设置HuggingFace代理\n",
    "%env HF_ENDPOINT=https://hf-mirror.com\n",
    "# 验证：使用shell命令检查\n",
    "!echo $HF_ENDPOINT"
   ]
  },
  {
   "cell_type": "code",
   "execution_count": 4,
   "id": "env_system_check",
   "metadata": {},
   "outputs": [
    {
     "name": "stdout",
     "output_type": "stream",
     "text": [
      "Requirement already satisfied: pandas==2.2.2 in /root/miniconda3/envs/agent101/lib/python3.10/site-packages (2.2.2)\n",
      "Requirement already satisfied: tabulate==0.9.0 in /root/miniconda3/envs/agent101/lib/python3.10/site-packages (0.9.0)\n",
      "Requirement already satisfied: numpy>=1.22.4 in /root/miniconda3/envs/agent101/lib/python3.10/site-packages (from pandas==2.2.2) (2.2.6)\n",
      "Requirement already satisfied: python-dateutil>=2.8.2 in /root/miniconda3/envs/agent101/lib/python3.10/site-packages (from pandas==2.2.2) (2.9.0.post0)\n",
      "Requirement already satisfied: pytz>=2020.1 in /root/miniconda3/envs/agent101/lib/python3.10/site-packages (from pandas==2.2.2) (2025.2)\n",
      "Requirement already satisfied: tzdata>=2022.7 in /root/miniconda3/envs/agent101/lib/python3.10/site-packages (from pandas==2.2.2) (2025.2)\n",
      "Requirement already satisfied: six>=1.5 in /root/miniconda3/envs/agent101/lib/python3.10/site-packages (from python-dateutil>=2.8.2->pandas==2.2.2) (1.17.0)\n",
      "\u001b[33mWARNING: Running pip as the 'root' user can result in broken permissions and conflicting behaviour with the system package manager, possibly rendering your system unusable. It is recommended to use a virtual environment instead: https://pip.pypa.io/warnings/venv. Use the --root-user-action option if you know what you are doing and want to suppress this warning.\u001b[0m\u001b[33m\n",
      "\u001b[0mNote: you may need to restart the kernel to use updated packages.\n",
      "### 环境信息\n",
      "| 项目         | 信息                                                                               |\n",
      "|:-------------|:-----------------------------------------------------------------------------------|\n",
      "| 操作系统     | Linux Ubuntu 22.04.4 LTS                                                           |\n",
      "| CPU 信息     | 11th Gen Intel(R) Core(TM) i5-1135G7 @ 2.40GHz (1 physical cores, 4 logical cores) |\n",
      "| 内存信息     | 5.75 GB (Available: 2.54 GB)                                                       |\n",
      "| GPU 信息     | No GPU found (nvidia-smi not found)                                                |\n",
      "| CUDA 信息    | CUDA not found                                                                     |\n",
      "| Python 版本  | 3.10.18                                                                            |\n",
      "| Conda 版本   | conda 24.4.0                                                                       |\n",
      "| 物理磁盘空间 | Total: 145.49 GB, Used: 20.19 GB, Free: 119.07 GB                                  |\n"
     ]
    }
   ],
   "source": [
    "# 🔍 环境信息检查脚本\n",
    "#\n",
    "# 本脚本的作用：\n",
    "# 1. 安装 pandas 库用于数据表格展示\n",
    "# 2. 检查系统的各项配置信息\n",
    "# 3. 生成详细的环境报告表格\n",
    "#\n",
    "# 对于初学者来说，这个步骤帮助你：\n",
    "# - 了解当前运行环境的硬件配置\n",
    "# - 确认是否满足模型运行的最低要求\n",
    "# - 学习如何通过代码获取系统信息\n",
    "\n",
    "# 安装 pandas 库 - 用于创建和展示数据表格\n",
    "# pandas 是 Python 中最流行的数据处理和分析库\n",
    "%pip install pandas==2.2.2 tabulate==0.9.0\n",
    "\n",
    "import platform # 导入 platform 模块以获取系统信息\n",
    "import os # 导入 os 模块以与操作系统交互\n",
    "import subprocess # 导入 subprocess 模块以运行外部命令\n",
    "import pandas as pd # 导入 pandas 模块，通常用于数据处理，这里用于创建表格\n",
    "import shutil # 导入 shutil 模块以获取磁盘空间信息\n",
    "\n",
    "# 获取 CPU 信息的函数，包括核心数量\n",
    "def get_cpu_info():\n",
    "    cpu_info = \"\" # 初始化 CPU 信息字符串\n",
    "    physical_cores = \"N/A\"\n",
    "    logical_cores = \"N/A\"\n",
    "\n",
    "    if platform.system() == \"Windows\": # 如果是 Windows 系统\n",
    "        cpu_info = platform.processor() # 使用 platform.processor() 获取 CPU 信息\n",
    "        try:\n",
    "            # 获取 Windows 上的核心数量 (需要 WMI)\n",
    "            import wmi\n",
    "            c = wmi.WMI()\n",
    "            for proc in c.Win32_Processor():\n",
    "                physical_cores = proc.NumberOfCores\n",
    "                logical_cores = proc.NumberOfLogicalProcessors\n",
    "        except:\n",
    "            pass # 如果 WMI 不可用，忽略错误\n",
    "\n",
    "    elif platform.system() == \"Darwin\": # 如果是 macOS 系统\n",
    "        # 在 macOS 上使用 sysctl 命令获取 CPU 信息和核心数量\n",
    "        os.environ['PATH'] = os.environ['PATH'] + os.pathsep + '/usr/sbin' # 更新 PATH 环境变量\n",
    "        try:\n",
    "            process_brand = subprocess.Popen(['sysctl', \"machdep.cpu.brand_string\"], stdout=subprocess.PIPE, stderr=subprocess.PIPE)\n",
    "            stdout_brand, stderr_brand = process_brand.communicate()\n",
    "            cpu_info = stdout_brand.decode().split(': ')[1].strip() if stdout_brand else \"Could not retrieve CPU info\"\n",
    "\n",
    "            process_physical = subprocess.Popen(['sysctl', \"hw.physicalcpu\"], stdout=subprocess.PIPE, stderr=subprocess.PIPE)\n",
    "            stdout_physical, stderr_physical = process_physical.communicate()\n",
    "            physical_cores = stdout_physical.decode().split(': ')[1].strip() if stdout_physical else \"N/A\"\n",
    "\n",
    "            process_logical = subprocess.Popen(['sysctl', \"hw.logicalcpu\"], stdout=subprocess.PIPE, stderr=subprocess.PIPE)\n",
    "            stdout_logical, stderr_logical = process_logical.communicate()\n",
    "            logical_cores = stdout_logical.decode().split(': ')[1].strip() if stdout_logical else \"N/A\"\n",
    "\n",
    "        except:\n",
    "            cpu_info = \"Could not retrieve CPU info\"\n",
    "            physical_cores = \"N/A\"\n",
    "            logical_cores = \"N/A\"\n",
    "\n",
    "    else:  # Linux 系统\n",
    "        try:\n",
    "            # 在 Linux 上读取 /proc/cpuinfo 文件获取 CPU 信息和核心数量\n",
    "            with open('/proc/cpuinfo') as f:\n",
    "                physical_cores_count = 0\n",
    "                logical_cores_count = 0\n",
    "                cpu_info_lines = []\n",
    "                for line in f:\n",
    "                    if line.startswith('model name'): # 查找以 'model name'开头的行\n",
    "                        if not cpu_info: # 只获取第一个 model name\n",
    "                            cpu_info = line.split(': ')[1].strip()\n",
    "                    elif line.startswith('cpu cores'): # 查找以 'cpu cores' 开头的行\n",
    "                        physical_cores_count = int(line.split(': ')[1].strip())\n",
    "                    elif line.startswith('processor'): # 查找以 'processor' 开头的行\n",
    "                        logical_cores_count += 1\n",
    "                physical_cores = str(physical_cores_count) if physical_cores_count > 0 else \"N/A\"\n",
    "                logical_cores = str(logical_cores_count) if logical_cores_count > 0 else \"N/A\"\n",
    "                if not cpu_info:\n",
    "                     cpu_info = \"Could not retrieve CPU info\"\n",
    "\n",
    "        except:\n",
    "            cpu_info = \"Could not retrieve CPU info\"\n",
    "            physical_cores = \"N/A\"\n",
    "            logical_cores = \"N/A\"\n",
    "\n",
    "    return f\"{cpu_info} ({physical_cores} physical cores, {logical_cores} logical cores)\" # 返回 CPU 信息和核心数量\n",
    "\n",
    "\n",
    "# 获取内存信息的函数\n",
    "def get_memory_info():\n",
    "    mem_info = \"\" # 初始化内存信息字符串\n",
    "    if platform.system() == \"Windows\":\n",
    "        # 在 Windows 上不容易通过标准库获取，需要外部库或 PowerShell\n",
    "        mem_info = \"Requires external tools on Windows\" # 设置提示信息\n",
    "    elif platform.system() == \"Darwin\": # 如果是 macOS 系统\n",
    "        # 在 macOS 上使用 sysctl 命令获取内存大小\n",
    "        process = subprocess.Popen(['sysctl', \"hw.memsize\"], stdout=subprocess.PIPE, stderr=subprocess.PIPE) # 运行 sysctl 命令\n",
    "        stdout, stderr = process.communicate() # 获取标准输出和标准错误\n",
    "        mem_bytes = int(stdout.decode().split(': ')[1].strip()) # 解析输出，获取内存大小（字节）\n",
    "        mem_gb = mem_bytes / (1024**3) # 转换为 GB\n",
    "        mem_info = f\"{mem_gb:.2f} GB\" # 格式化输出\n",
    "    else:  # Linux 系统\n",
    "        try:\n",
    "            # 在 Linux 上读取 /proc/meminfo 文件获取内存信息\n",
    "            with open('/proc/meminfo') as f:\n",
    "                total_mem_kb = 0\n",
    "                available_mem_kb = 0\n",
    "                for line in f:\n",
    "                    if line.startswith('MemTotal'): # 查找以 'MemTotal' 开头的行\n",
    "                        total_mem_kb = int(line.split(':')[1].strip().split()[0]) # 解析行，获取总内存（KB）\n",
    "                    elif line.startswith('MemAvailable'): # 查找以 'MemAvailable' 开头的行\n",
    "                         available_mem_kb = int(line.split(':')[1].strip().split()[0]) # 解析行，获取可用内存（KB）\n",
    "\n",
    "                if total_mem_kb > 0:\n",
    "                    total_mem_gb = total_mem_kb / (1024**2) # 转换为 GB\n",
    "                    mem_info = f\"{total_mem_gb:.2f} GB\" # 格式化输出总内存\n",
    "                    if available_mem_kb > 0:\n",
    "                        available_mem_gb = available_mem_kb / (1024**2)\n",
    "                        mem_info += f\" (Available: {available_mem_gb:.2f} GB)\" # 添加可用内存信息\n",
    "                else:\n",
    "                     mem_info = \"Could not retrieve memory info\" # 如果读取文件出错，设置错误信息\n",
    "\n",
    "        except:\n",
    "            mem_info = \"Could not retrieve memory info\" # 如果读取文件出错，设置错误信息\n",
    "    return mem_info # 返回内存信息\n",
    "\n",
    "# 获取 GPU 信息的函数，包括显存\n",
    "def get_gpu_info():\n",
    "    try:\n",
    "        # 尝试使用 nvidia-smi 获取 NVIDIA GPU 信息和显存\n",
    "        result = subprocess.run(['nvidia-smi', '--query-gpu=name,memory.total', '--format=csv,noheader'], capture_output=True, text=True)\n",
    "        if result.returncode == 0: # 如果命令成功执行\n",
    "            gpu_lines = result.stdout.strip().split('\\n') # 解析输出，获取 GPU 名称和显存\n",
    "            gpu_info_list = []\n",
    "            for line in gpu_lines:\n",
    "                name, memory = line.split(', ')\n",
    "                gpu_info_list.append(f\"{name} ({memory})\") # 格式化 GPU 信息\n",
    "            return \", \".join(gpu_info_list) if gpu_info_list else \"NVIDIA GPU found, but info not listed\" # 返回 GPU 信息或提示信息\n",
    "        else:\n",
    "             # 尝试使用 lshw 获取其他 GPU 信息 (需要安装 lshw)\n",
    "            try:\n",
    "                result_lshw = subprocess.run(['lshw', '-C', 'display'], capture_output=True, text=True)\n",
    "                if result_lshw.returncode == 0: # 如果命令成功执行\n",
    "                     # 简单解析输出中的 product 名称和显存\n",
    "                    gpu_info_lines = []\n",
    "                    current_gpu = {}\n",
    "                    for line in result_lshw.stdout.splitlines():\n",
    "                        if 'product:' in line:\n",
    "                             if current_gpu:\n",
    "                                 gpu_info_lines.append(f\"{current_gpu.get('product', 'GPU')} ({current_gpu.get('memory', 'N/A')})\")\n",
    "                             current_gpu = {'product': line.split('product:')[1].strip()}\n",
    "                        elif 'size:' in line and 'memory' in line:\n",
    "                             current_gpu['memory'] = line.split('size:')[1].strip()\n",
    "\n",
    "                    if current_gpu: # 添加最后一个 GPU 的信息\n",
    "                        gpu_info_lines.append(f\"{current_gpu.get('product', 'GPU')} ({current_gpu.get('memory', 'N/A')})\")\n",
    "\n",
    "                    return \", \".join(gpu_info_lines) if gpu_info_lines else \"GPU found (via lshw), but info not parsed\" # 如果找到 GPU 但信息无法解析，设置提示信息\n",
    "                else:\n",
    "                    return \"No GPU found (checked nvidia-smi and lshw)\" # 如果两个命令都找不到 GPU，设置提示信息\n",
    "            except FileNotFoundError:\n",
    "                 return \"No GPU found (checked nvidia-smi, lshw not found)\" # 如果找不到 lshw 命令，设置提示信息\n",
    "    except FileNotFoundError:\n",
    "        return \"No GPU found (nvidia-smi not found)\" # 如果找不到 nvidia-smi 命令，设置提示信息\n",
    "\n",
    "\n",
    "# 获取 CUDA 版本的函数\n",
    "def get_cuda_version():\n",
    "    try:\n",
    "        # 尝试使用 nvcc --version 获取 CUDA 版本\n",
    "        result = subprocess.run(['nvcc', '--version'], capture_output=True, text=True)\n",
    "        if result.returncode == 0: # 如果命令成功执行\n",
    "            for line in result.stdout.splitlines():\n",
    "                if 'release' in line: # 查找包含 'release' 的行\n",
    "                    return line.split('release ')[1].split(',')[0] # 解析行，提取版本号\n",
    "        return \"CUDA not found or version not parsed\" # 如果找不到 CUDA 或版本无法解析，设置提示信息\n",
    "    except FileNotFoundError:\n",
    "        return \"CUDA not found\" # 如果找不到 nvcc 命令，设置提示信息\n",
    "\n",
    "# 获取 Python 版本的函数\n",
    "def get_python_version():\n",
    "    return platform.python_version() # 获取 Python 版本\n",
    "\n",
    "# 获取 Conda 版本的函数\n",
    "def get_conda_version():\n",
    "    try:\n",
    "        # 尝试使用 conda --version 获取 Conda 版本\n",
    "        result = subprocess.run(['conda', '--version'], capture_output=True, text=True)\n",
    "        if result.returncode == 0: # 如果命令成功执行\n",
    "            return result.stdout.strip() # 返回 Conda 版本\n",
    "        return \"Conda not found or version not parsed\" # 如果找不到 Conda 或版本无法解析，设置提示信息\n",
    "    except FileNotFoundError:\n",
    "        return \"Conda not found\" # 如果找不到 conda 命令，设置提示信息\n",
    "\n",
    "# 获取物理磁盘空间信息的函数\n",
    "def get_disk_space():\n",
    "    try:\n",
    "        total, used, free = shutil.disk_usage(\"/\") # 获取根目录的磁盘使用情况\n",
    "        total_gb = total / (1024**3) # 转换为 GB\n",
    "        used_gb = used / (1024**3) # 转换为 GB\n",
    "        free_gb = free / (1024**3) # 转换为 GB\n",
    "        return f\"Total: {total_gb:.2f} GB, Used: {used_gb:.2f} GB, Free: {free_gb:.2f} GB\" # 格式化输出\n",
    "    except Exception as e:\n",
    "        return f\"Could not retrieve disk info: {e}\" # 如果获取信息出错，设置错误信息\n",
    "\n",
    "# 获取环境信息\n",
    "os_name = platform.system() # 获取操作系统名称\n",
    "os_version = platform.release() # 获取操作系统版本\n",
    "if os_name == \"Linux\":\n",
    "    try:\n",
    "        # 在 Linux 上尝试获取发行版和版本\n",
    "        lsb_info = subprocess.run(['lsb_release', '-a'], capture_output=True, text=True)\n",
    "        if lsb_info.returncode == 0: # 如果命令成功执行\n",
    "            for line in lsb_info.stdout.splitlines():\n",
    "                if 'Description:' in line: # 查找包含 'Description:' 的行\n",
    "                    os_version = line.split('Description:')[1].strip() # 提取描述信息作为版本\n",
    "                    break # 找到后退出循环\n",
    "                elif 'Release:' in line: # 查找包含 'Release:' 的行\n",
    "                     os_version = line.split('Release:')[1].strip() # 提取版本号\n",
    "                     # 尝试获取 codename\n",
    "                     try:\n",
    "                         codename_info = subprocess.run(['lsb_release', '-c'], capture_output=True, text=True)\n",
    "                         if codename_info.returncode == 0:\n",
    "                             os_version += f\" ({codename_info.stdout.split(':')[1].strip()})\" # 将 codename 添加到版本信息中\n",
    "                     except:\n",
    "                         pass # 如果获取 codename 失败则忽略\n",
    "\n",
    "    except FileNotFoundError:\n",
    "        pass # lsb_release 可能未安装，忽略错误\n",
    "\n",
    "full_os_info = f\"{os_name} {os_version}\" # 组合完整的操作系统信息\n",
    "cpu_info = get_cpu_info() # 调用函数获取 CPU 信息和核心数量\n",
    "memory_info = get_memory_info() # 调用函数获取内存信息\n",
    "gpu_info = get_gpu_info() # 调用函数获取 GPU 信息和显存\n",
    "cuda_version = get_cuda_version() # 调用函数获取 CUDA 版本\n",
    "python_version = get_python_version() # 调用函数获取 Python 版本\n",
    "conda_version = get_conda_version() # 调用函数获取 Conda 版本\n",
    "disk_info = get_disk_space() # 调用函数获取物理磁盘空间信息\n",
    "\n",
    "\n",
    "# 创建用于存储数据的字典\n",
    "env_data = {\n",
    "    \"项目\": [ # 项目名称列表\n",
    "        \"操作系统\",\n",
    "        \"CPU 信息\",\n",
    "        \"内存信息\",\n",
    "        \"GPU 信息\",\n",
    "        \"CUDA 信息\",\n",
    "        \"Python 版本\",\n",
    "        \"Conda 版本\",\n",
    "        \"物理磁盘空间\" # 添加物理磁盘空间\n",
    "    ],\n",
    "    \"信息\": [ # 对应的信息列表\n",
    "        full_os_info,\n",
    "        cpu_info,\n",
    "        memory_info,\n",
    "        gpu_info,\n",
    "        cuda_version,\n",
    "        python_version,\n",
    "        conda_version,\n",
    "        disk_info # 添加物理磁盘空间信息\n",
    "    ]\n",
    "}\n",
    "\n",
    "# 创建一个 pandas DataFrame\n",
    "df = pd.DataFrame(env_data)\n",
    "\n",
    "# 打印表格\n",
    "print(\"### 环境信息\") # 打印标题\n",
    "print(df.to_markdown(index=False)) # 将 DataFrame 转换为 Markdown 格式并打印，不包含索引\n"
   ]
  },
  {
   "cell_type": "markdown",
   "id": "c52ea2f9-03ff-4647-b782-46867ebed04e",
   "metadata": {
    "id": "c52ea2f9-03ff-4647-b782-46867ebed04e"
   },
   "source": [
    "# 过滤与裁剪对话消息（Filtering and Trimming Messages）\n",
    "\n",
    "## 回顾\n",
    "\n",
    "到目前为止，我们已经进一步理解了以下内容：\n",
    "\n",
    "- 如何自定义图状态（Graph State）的数据结构（Schema）\n",
    "- 如何定义自定义的状态归约器器（State Reducers）\n",
    "- 如何在一个项目中使用多种图状态 Schema\n",
    "\n",
    "## 目标\n",
    "\n",
    "接下来，我们将在 LangGraph 中把这些概念用于实际模型调用。\n",
    "\n",
    "在后续章节里，我们会逐步构建一个支持长期记忆的聊天机器人。\n",
    "\n",
    "**因为机器人依赖消息来对话，我们先介绍在图状态中处理消息的几种高级方式：过滤（Filter）与裁剪（Trim）。**"
   ]
  },
  {
   "cell_type": "code",
   "execution_count": 5,
   "id": "d5197aba-5d46-421b-ae3b-4e3034edcfda",
   "metadata": {
    "id": "d5197aba-5d46-421b-ae3b-4e3034edcfda"
   },
   "outputs": [
    {
     "name": "stdout",
     "output_type": "stream",
     "text": [
      "\u001b[33mWARNING: Running pip as the 'root' user can result in broken permissions and conflicting behaviour with the system package manager, possibly rendering your system unusable. It is recommended to use a virtual environment instead: https://pip.pypa.io/warnings/venv. Use the --root-user-action option if you know what you are doing and want to suppress this warning.\u001b[0m\u001b[33m\n",
      "\u001b[0mNote: you may need to restart the kernel to use updated packages.\n"
     ]
    }
   ],
   "source": [
    "# %%capture --no-stderr\n",
    "%pip install --quiet langchain_openai==0.3.32 langchain_core==0.3.75 langgraph==0.6.7"
   ]
  },
  {
   "cell_type": "code",
   "execution_count": 6,
   "id": "768dc606-d5f2-468d-96ea-910b264e0f8a",
   "metadata": {
    "colab": {
     "base_uri": "https://localhost:8080/"
    },
    "id": "768dc606-d5f2-468d-96ea-910b264e0f8a",
    "outputId": "86b1e4e0-4df3-42df-cdd2-529a5ca6a231"
   },
   "outputs": [],
   "source": [
    "import os, getpass\n",
    "\n",
    "# 小工具：若环境变量未设置，则在运行时提示手动输入并写入到进程环境变量\n",
    "# 生产环境建议通过更安全的方式（如 .env、密钥管理服务、CI/CD 注入）设置\n",
    "\n",
    "def _set_env(var: str):\n",
    "    if not os.environ.get(var):\n",
    "        os.environ[var] = getpass.getpass(f\"{var}: \")\n",
    "\n",
    "# OpenAI API 密钥（用于 ChatOpenAI 调用）\n",
    "_set_env(\"OPENAI_API_KEY\")\n",
    "# 设置 OpenAI API代理地址 (例如：https://api.apiyi.com/v1）\n",
    "_set_env(\"OPENAI_BASE_URL\")"
   ]
  },
  {
   "cell_type": "markdown",
   "id": "8b64d8d3-e4ac-4961-bdc0-688825eb5864",
   "metadata": {
    "id": "8b64d8d3-e4ac-4961-bdc0-688825eb5864"
   },
   "source": [
    "我们将使用 [LangSmith](https://docs.smith.langchain.com/) 进行[调用追踪（tracing）](https://docs.smith.langchain.com/concepts/tracing)。\n",
    "\n",
    "本笔记会将追踪数据记录到项目 `langchain-academy` 中。"
   ]
  },
  {
   "cell_type": "code",
   "execution_count": 7,
   "id": "dd020c79",
   "metadata": {
    "colab": {
     "base_uri": "https://localhost:8080/"
    },
    "id": "dd020c79",
    "outputId": "ae7dec59-b178-4045-fd29-de21c5547aaf"
   },
   "outputs": [],
   "source": [
    "# LangSmith 用于链路追踪与可视化分析\n",
    "_set_env(\"LANGSMITH_API_KEY\")\n",
    "os.environ[\"LANGSMITH_TRACING\"] = \"true\"\n",
    "# 指定追踪项目名，便于区分不同实验/环境\n",
    "os.environ[\"LANGSMITH_PROJECT\"] = \"FlyAIBox\""
   ]
  },
  {
   "cell_type": "markdown",
   "id": "72f3fc90-58b6-4f7f-897e-dddf6ae532c7",
   "metadata": {
    "id": "72f3fc90-58b6-4f7f-897e-dddf6ae532c7"
   },
   "source": [
    "## 将消息作为状态（Messages as State）\n",
    "\n",
    "首先，我们先定义一些对话消息。"
   ]
  },
  {
   "cell_type": "code",
   "execution_count": 8,
   "id": "cf11a463-e27a-4a05-b41d-64882e38edca",
   "metadata": {
    "colab": {
     "base_uri": "https://localhost:8080/"
    },
    "id": "cf11a463-e27a-4a05-b41d-64882e38edca",
    "outputId": "1444c716-76be-4eea-c649-029780eaa50f"
   },
   "outputs": [
    {
     "name": "stdout",
     "output_type": "stream",
     "text": [
      "==================================\u001b[1m Ai Message \u001b[0m==================================\n",
      "Name: Bot\n",
      "\n",
      "你之前说你在研究海洋哺乳动物，对吗？\n",
      "================================\u001b[1m Human Message \u001b[0m=================================\n",
      "Name: Lance\n",
      "\n",
      "是的，我知道鲸鱼。但我还应该了解哪些其他的？\n"
     ]
    }
   ],
   "source": [
    "from pprint import pprint\n",
    "from langchain_core.messages import AIMessage, HumanMessage\n",
    "\n",
    "# 定义一组对话消息（先是 AI，再是人类），用于后续示例\n",
    "messages = [AIMessage(f\"你之前说你在研究海洋哺乳动物，对吗？\", name=\"Bot\")]\n",
    "messages.append(HumanMessage(f\"是的，我知道鲸鱼。但我还应该了解哪些其他的？\", name=\"Lance\"))\n",
    "# 以更易读的格式打印消息，便于调试与理解\n",
    "for m in messages:\n",
    "    m.pretty_print()"
   ]
  },
  {
   "cell_type": "markdown",
   "id": "b814adcb-6bf9-4b75-be11-e59f933fbd0c",
   "metadata": {
    "id": "b814adcb-6bf9-4b75-be11-e59f933fbd0c"
   },
   "source": [
    "回顾一下：我们可以直接把这组消息传给聊天模型。"
   ]
  },
  {
   "cell_type": "code",
   "execution_count": 9,
   "id": "4712e288-e622-48a2-ad3f-a52f65f3ab08",
   "metadata": {
    "colab": {
     "base_uri": "https://localhost:8080/"
    },
    "id": "4712e288-e622-48a2-ad3f-a52f65f3ab08",
    "outputId": "23c82818-51f1-414b-ea15-a7965cbde0f2"
   },
   "outputs": [
    {
     "data": {
      "text/plain": [
       "AIMessage(content='除了鲸鱼，海洋哺乳动物是一类非常迷人的生物，还有许多其他种类可以研究和了解。以下是一些主要的海洋哺乳动物种类：\\n\\n### 1. **海豚**\\n   - 海豚属于鲸类，但通常比鲸鱼体型较小。它们是高度社会化的生物，以智能和复杂的行为著称。\\n   - 常见种类包括瓶鼻海豚和斑海豚。\\n\\n### 2. **海豹**\\n   - 海豹是鳍足类的成员，适应水中生活，但必须上岸进行休息和繁殖。\\n   - 有些常见的种类包括斑海豹和灰海豹。\\n\\n### 3. **海狮**\\n   - 与海豹类似，但海狮的前鳍更有力，允许它们在陆地上“走”而不是爬。\\n   - 它们通常比海豹更活跃且更吵闹。\\n\\n### 4. **海象**\\n   - 海象是巨大的鳍足类动物，拥有显著的长獠牙，它们用于打斗、挖掘海床或攀爬冰面。\\n\\n### 5. **儒艮和海牛**\\n   - 儒艮和海牛是草食性海洋哺乳动物，常被称为“海洋中的温柔巨人”。\\n   - 儒艮生活在印度洋及其周边区域，而海牛（比如西印度海牛）在北美洲地区较为常见。\\n\\n### 6. **北极熊**\\n   - 虽然北极熊不是水生动物，但它们是依赖海洋生态系统生活的哺乳动物，尤其是冰面和猎取海豹。\\n\\n### 7. **水獭**\\n   - 海獭是一种小型哺乳动物，它们主要生活在海洋中，但与淡水水獭有些相似。\\n   - 它们以使用工具而闻名，比如利用石头打开贝壳。\\n\\n### 8. **长须鲸（鳍足鲸类）**\\n   - 除了小型鲸鱼，还有大型鲸鱼，比如座头鲸、蓝鲸，以及长须鲸。\\n\\n研究海洋哺乳动物时，可以注意它们的迁徙、繁殖习性、生态角色以及如何保护它们免受人类活动的负面影响。例如，塑料垃圾和海洋污染对许多海洋哺乳动物产生了巨大威胁。\\n\\n如果你对某一类特别有兴趣，我可以提供更多深度信息！', additional_kwargs={'refusal': None}, response_metadata={'token_usage': {'completion_tokens': 585, 'prompt_tokens': 45, 'total_tokens': 630, 'completion_tokens_details': {'accepted_prediction_tokens': 0, 'audio_tokens': 0, 'reasoning_tokens': 0, 'rejected_prediction_tokens': 0}, 'prompt_tokens_details': {'audio_tokens': 0, 'cached_tokens': 0}}, 'model_name': 'gpt-4o-2024-11-20', 'system_fingerprint': 'fp_b54fe76834', 'id': 'chatcmpl-CRbItEFP4xfGtuRXO1lZeR2iGGVIo', 'service_tier': None, 'finish_reason': 'stop', 'logprobs': None}, id='run--20abe4a3-7a73-4a85-ac37-c5d512422425-0', usage_metadata={'input_tokens': 45, 'output_tokens': 585, 'total_tokens': 630, 'input_token_details': {'audio': 0, 'cache_read': 0}, 'output_token_details': {'audio': 0, 'reasoning': 0}})"
      ]
     },
     "execution_count": 9,
     "metadata": {},
     "output_type": "execute_result"
    }
   ],
   "source": [
    "from langchain_openai import ChatOpenAI\n",
    "\n",
    "# 初始化聊天模型；gpt-4o 仅为示例，可根据账号权限与成本选择其他模型\n",
    "llm = ChatOpenAI(model=\"gpt-4o\")\n",
    "\n",
    "# 直接将完整消息历史传入模型（注意：长对话会推高 token 与延迟）\n",
    "llm.invoke(messages)"
   ]
  },
  {
   "cell_type": "markdown",
   "id": "fbd1dab8-0af8-4621-8264-ce65065f76ec",
   "metadata": {
    "id": "fbd1dab8-0af8-4621-8264-ce65065f76ec"
   },
   "source": [
    "我们可以在一个使用 `MessagesState` 的简单图（Graph）里运行聊天模型。"
   ]
  },
  {
   "cell_type": "code",
   "execution_count": 10,
   "id": "bbd8c39c-633b-4176-9cc6-8318e42bb5dd",
   "metadata": {
    "colab": {
     "base_uri": "https://localhost:8080/",
     "height": 251
    },
    "id": "bbd8c39c-633b-4176-9cc6-8318e42bb5dd",
    "outputId": "b5fb0b94-b85f-4e4c-c4ea-48ab0afd87e9"
   },
   "outputs": [
    {
     "name": "stdout",
     "output_type": "stream",
     "text": [
      "图可视化：\n"
     ]
    },
    {
     "data": {
      "image/png": "[encoded data removed]",
      "text/plain": [
       "<IPython.core.display.Image object>"
      ]
     },
     "metadata": {},
     "output_type": "display_data"
    },
    {
     "name": "stdout",
     "output_type": "stream",
     "text": [
      "✅ 图渲染成功！\n"
     ]
    }
   ],
   "source": [
    "from IPython.display import Image, display\n",
    "from langgraph.graph import MessagesState\n",
    "from langgraph.graph import StateGraph, START, END\n",
    "\n",
    "# 定义一个图节点：接收状态中的所有消息，直接调用聊天模型\n",
    "# 注意：此处未做任何过滤/裁剪，长对话会不断增长\n",
    "def chat_model_node(state: MessagesState):\n",
    "    return {\"messages\": llm.invoke(state[\"messages\"])}\n",
    "\n",
    "# 构建最简图：START -> chat_model -> END\n",
    "builder = StateGraph(MessagesState)\n",
    "builder.add_node(\"chat_model\", chat_model_node)\n",
    "builder.add_edge(START, \"chat_model\")\n",
    "builder.add_edge(\"chat_model\", END)\n",
    "graph = builder.compile()\n",
    "\n",
    "# 展示图结构\n",
    "# 图可视化\n",
    "print(\"图可视化：\")\n",
    "\n",
    "# 方案1：尝试使用 Pyppeteer 本地渲染（推荐）\n",
    "try:\n",
    "    # 可视化：通过 Mermaid 渲染图结构\n",
    "    display(Image(graph.get_graph().draw_mermaid_png()))\n",
    "    print(\"✅ 图渲染成功！\")\n",
    "except Exception as e:\n",
    "    print(f\"❌ Pyppeteer 渲染失败: {e}\")\n",
    "    \n",
    "    # 方案2：显示 Mermaid 文本格式\n",
    "    print(\"\\n📝 图结构（Mermaid 文本格式）：\")\n",
    "    print(\"=\" * 50)\n",
    "    mermaid_text = graph.get_graph().draw_mermaid()\n",
    "    print(mermaid_text)\n",
    "    print(\"=\" * 50)\n",
    "    \n",
    "    # 方案3：显示图的节点和边信息\n",
    "    print(\"\\n🔗 图结构信息：\")\n",
    "    print(\"节点:\", list(graph.get_graph().nodes.keys()))\n",
    "    print(\"边:\", list(graph.get_graph().edges))\n",
    "    \n",
    "    # 方案4：提供手动渲染说明\n",
    "    print(\"\\n💡 手动渲染说明：\")\n",
    "    print(\"1. 复制上面的 Mermaid 文本\")\n",
    "    print(\"2. 访问 https://mermaid.live/\")\n",
    "    print(\"3. 粘贴文本到编辑器中查看图形\")\n",
    "    print(\"4. 或者使用支持 Mermaid 的 Markdown 编辑器\")"
   ]
  },
  {
   "cell_type": "code",
   "execution_count": 11,
   "id": "3a5a3e4a-ccfd-4d14-81f1-f0de6e11a1e4",
   "metadata": {
    "colab": {
     "base_uri": "https://localhost:8080/"
    },
    "id": "3a5a3e4a-ccfd-4d14-81f1-f0de6e11a1e4",
    "outputId": "988612ad-e9b8-410e-8541-53f1ad26ea06"
   },
   "outputs": [
    {
     "name": "stdout",
     "output_type": "stream",
     "text": [
      "==================================\u001b[1m Ai Message \u001b[0m==================================\n",
      "Name: Bot\n",
      "\n",
      "你之前说你在研究海洋哺乳动物，对吗？\n",
      "================================\u001b[1m Human Message \u001b[0m=================================\n",
      "Name: Lance\n",
      "\n",
      "是的，我知道鲸鱼。但我还应该了解哪些其他的？\n",
      "==================================\u001b[1m Ai Message \u001b[0m==================================\n",
      "\n",
      "除了鲸鱼以外，海洋哺乳动物是一个非常有趣且多样化的类别。以下是一些你可以了解的其他种类的海洋哺乳动物：\n",
      "\n",
      "### 1. **海豚**\n",
      "   - 海豚是鲸类的一部分，但因其聪明和亲人的行为而非常著名。最常见的种类是瓶鼻海豚。\n",
      "   - 它们具有复杂的社交结构，并依靠声呐和音频交流。\n",
      "\n",
      "### 2. **鼠海豚**\n",
      "   - 鼠海豚和海豚近亲，但通常更小、胖一些，且多在冷水域活动。\n",
      "   - 它们通常不擅长跳跃和戏水，行为较低调。\n",
      "\n",
      "### 3. **海豹**\n",
      "   - 海豹是鳍脚类动物，分布范围广，从极地到温带海域。\n",
      "   - 它们主要在海洋中生活，但会到陆地或冰面休息和繁殖。\n",
      "\n",
      "### 4. **海狮**\n",
      "   - 和海豹类似，海狮也属于鳍脚类，但它们能用鳍脚在陆地上跑动，且它们耳朵外有明显的耳廓。\n",
      "   - 海狮具有较强的游泳能力，可以投身水中快速捕猎。\n",
      "\n",
      "### 5. **海象**\n",
      "   - 海象体型巨大，因其长长的獠牙和厚厚的皮肤而闻名。\n",
      "   - 它们主要生活在北极海域，以贝类为食。\n",
      "\n",
      "### 6. **海牛（儒艮和西印度海牛）**\n",
      "   - 海牛是大型、温和的草食动物，常被称为“海中的牛”。\n",
      "   - 它们主要生活在热带和亚热带水域，以水生植物为食。\n",
      "\n",
      "### 7. **水獭**\n",
      "   - 水獭不是完全海洋生物，但海獭却是完全靠海洋生态生存的。\n",
      "   - 海獭非常聪明，会使用工具（如石头）敲开贝类壳。\n",
      "\n",
      "### 8. **北极熊**\n",
      "   - 虽然技术上不是典型的海洋哺乳动物，北极熊却依赖海洋生态系统生存，特别是冰面的狩猎和旅行。\n",
      "   - 其食物主要包括海豹。\n",
      "\n",
      "### 9. **鲸目动物的其他类别**\n",
      "   - 除了海豚，还有虎鲸（杀人鲸）、白鲸和独角鲸等较独特的种类，可以学习它们的行为模式和生态习性。\n",
      "\n",
      "如果你对这些动物感兴趣，可以进一步研究它们的生存状况、生态角色以及如何面对气候变化的影响！\n"
     ]
    }
   ],
   "source": [
    "output = graph.invoke({'messages': messages})\n",
    "for m in output['messages']:\n",
    "    m.pretty_print()"
   ]
  },
  {
   "cell_type": "markdown",
   "id": "34c33e63-1ef4-412d-bb10-6a1b9e5b35a7",
   "metadata": {
    "id": "34c33e63-1ef4-412d-bb10-6a1b9e5b35a7"
   },
   "source": [
    "## 归约器（Reducer）\n",
    "\n",
    "**在处理消息时，一个实际挑战是管理“长对话”。**\n",
    "\n",
    "如果不加控制，随着对话历史不断增长，模型每次都会接收越来越长的消息列表，导致令牌（token）消耗增大、延迟升高。\n",
    "\n",
    "为了解决这个问题，我们有几种常用方法。\n",
    "\n",
    "首先，回顾之前的技巧：使用 `RemoveMessage` 配合 `add_messages` 归约器来删除不需要的历史消息。"
   ]
  },
  {
   "cell_type": "code",
   "execution_count": 12,
   "id": "222c6bc5-bb0e-4a43-80f5-c8ec38d99f3a",
   "metadata": {
    "colab": {
     "base_uri": "https://localhost:8080/",
     "height": 350
    },
    "id": "222c6bc5-bb0e-4a43-80f5-c8ec38d99f3a",
    "outputId": "4cd3968a-cff6-41f8-8d19-7ef79c3f815b"
   },
   "outputs": [
    {
     "data": {
      "image/png": "[encoded data removed]",
      "text/plain": [
       "<IPython.core.display.Image object>"
      ]
     },
     "metadata": {},
     "output_type": "display_data"
    }
   ],
   "source": [
    "from langchain_core.messages import RemoveMessage\n",
    "\n",
    "# 过滤节点：仅保留最近 2 条消息，删除更早的历史\n",
    "# 使用 RemoveMessage + add_messages 归约器的组合语义\n",
    "def filter_messages(state: MessagesState):\n",
    "    # Delete all but the 2 most recent messages\n",
    "    delete_messages = [RemoveMessage(id=m.id) for m in state[\"messages\"][:-2]]\n",
    "    return {\"messages\": delete_messages}\n",
    "\n",
    "# 调用节点：将过滤后的消息传给模型\n",
    "def chat_model_node(state: MessagesState):\n",
    "    return {\"messages\": [llm.invoke(state[\"messages\"])]}\n",
    "\n",
    "# 构建图：START -> filter -> chat_model -> END\n",
    "builder = StateGraph(MessagesState)\n",
    "builder.add_node(\"filter\", filter_messages)\n",
    "builder.add_node(\"chat_model\", chat_model_node)\n",
    "builder.add_edge(START, \"filter\")\n",
    "builder.add_edge(\"filter\", \"chat_model\")\n",
    "builder.add_edge(\"chat_model\", END)\n",
    "graph = builder.compile()\n",
    "\n",
    "# 可视化\n",
    "display(Image(graph.get_graph().draw_mermaid_png()))"
   ]
  },
  {
   "cell_type": "code",
   "execution_count": 13,
   "id": "95a7c2cc-54ce-43e7-9a90-abf37827d709",
   "metadata": {
    "colab": {
     "base_uri": "https://localhost:8080/"
    },
    "id": "95a7c2cc-54ce-43e7-9a90-abf37827d709",
    "outputId": "a6b1c515-165c-4128-d1d5-5d0c4c79953b"
   },
   "outputs": [
    {
     "name": "stdout",
     "output_type": "stream",
     "text": [
      "==================================\u001b[1m Ai Message \u001b[0m==================================\n",
      "Name: Bot\n",
      "\n",
      "你之前说你在研究海洋哺乳动物，对吗？\n",
      "================================\u001b[1m Human Message \u001b[0m=================================\n",
      "Name: Lance\n",
      "\n",
      "是的，我知道鲸鱼。但我还应该了解哪些其他的？\n",
      "==================================\u001b[1m Ai Message \u001b[0m==================================\n",
      "\n",
      "除了鲸鱼之外，还有几种主要的海洋哺乳动物值得了解。以下是一些类别和例子：\n",
      "\n",
      "### 1. **海豚和鼠海豚**\n",
      "   - **海豚**：海豚属于齿鲸家族，种类众多，比如瓶鼻海豚、虎鲸（虽然我们常叫它“杀人鲸”，但其实是大型海豚）。它们聪明、社交性强。\n",
      "   - **鼠海豚**：鼠海豚与海豚类似，但通常体型更小，头部样子更圆。\n",
      "\n",
      "### 2. **海豹**\n",
      "   - 海豹是鳍足动物的一部分，主要生活在寒冷地区，能够在水中和陆地上活动。\n",
      "   - 比如：斑海豹（常见于北半球）、南极的豹海豹。\n",
      "\n",
      "### 3. **海狮与北极熊**\n",
      "   - **海狮**：身体柔软、灵活，可以在陆地上移动，叫声非常响亮，比如加州海狮。\n",
      "   - **北极熊**：虽然北极熊是陆地哺乳动物，但它们被认为与海洋高度相关，因为其捕食主要依赖北极冰和水域。\n",
      "\n",
      "### 4. **儒艮和海牛**\n",
      "   - **儒艮**：美人鱼的传说可能就源自它们。它们吃海草，生活在浅水近岸地区。\n",
      "   - **海牛**（比如佛罗里达海牛）：与儒艮类似，但体型更大，分布范围较广。\n",
      "\n",
      "### 5. **海獭**\n",
      "   - 海獭是一种小型哺乳动物，喜欢漂浮在水面，用石头敲击贝壳来获取食物。\n",
      "   - 虽然动作可爱，但它们其实是生态的重要一环，促进海洋生物多样性。\n",
      "\n",
      "### 6. **鲸类**\n",
      "   - 除了常见的座头鲸、蓝鲸，你还可以了解其他种类，比如抹香鲸（深海潜水猎食墨鱼）和白鲸（“海中的金丝雀”，因会发出“歌声”）。\n",
      "\n",
      "这些动物都在不同的海洋生态系统中扮演着重要的角色。你可以研究它们的饮食、栖息地、社会行为以及它们面临的威胁（比如过度捕捞、污染和气候变化）。如果你对其中的某一种特别感兴趣，我可以帮助你深入讨论哦！\n"
     ]
    }
   ],
   "source": [
    "# Message list with a preamble\n",
    "messages = [AIMessage(\"你好。\", name=\"Bot\", id=\"1\")]\n",
    "messages.append(HumanMessage(\"你好。\", name=\"Lance\", id=\"2\"))\n",
    "messages.append(AIMessage(\"你之前说你在研究海洋哺乳动物，对吗？\", name=\"Bot\", id=\"3\"))\n",
    "messages.append(HumanMessage(\"是的，我知道鲸鱼。但我还应该了解哪些其他的？\", name=\"Lance\", id=\"4\"))\n",
    "\n",
    "# Invoke\n",
    "output = graph.invoke({'messages': messages})\n",
    "for m in output['messages']:\n",
    "    m.pretty_print()"
   ]
  },
  {
   "cell_type": "markdown",
   "id": "f506457d-014b-4fee-a684-e5edfb4b8f0d",
   "metadata": {
    "id": "f506457d-014b-4fee-a684-e5edfb4b8f0d"
   },
   "source": [
    "## 过滤消息（Filtering Messages）\n",
    "\n",
    "如果你不需要或不想修改图状态本身，可以只对“传入聊天模型的消息列表”进行过滤。\n",
    "\n",
    "例如，仅把最后一条消息传给模型：`llm.invoke(messages[-1:])`。"
   ]
  },
  {
   "cell_type": "code",
   "execution_count": 14,
   "id": "22d0b904-7cd6-486b-8948-105bee3d4683",
   "metadata": {
    "colab": {
     "base_uri": "https://localhost:8080/",
     "height": 251
    },
    "id": "22d0b904-7cd6-486b-8948-105bee3d4683",
    "outputId": "f05f73bc-05e6-47a5-b65e-0a06071aa7a7"
   },
   "outputs": [
    {
     "name": "stdout",
     "output_type": "stream",
     "text": [
      "图可视化：\n"
     ]
    },
    {
     "data": {
      "image/png": "[encoded data removed]",
      "text/plain": [
       "<IPython.core.display.Image object>"
      ]
     },
     "metadata": {},
     "output_type": "display_data"
    },
    {
     "name": "stdout",
     "output_type": "stream",
     "text": [
      "✅ 图渲染成功！\n"
     ]
    }
   ],
   "source": [
    "# 仅传入“最后一条消息”给模型，避免把整段历史都送入模型\n",
    "# 注意：这种方式适用于上下文依赖较弱的问答；若强依赖上下文，请考虑裁剪（trim）而非简单过滤\n",
    "def chat_model_node(state: MessagesState):\n",
    "    return {\"messages\": [llm.invoke(state[\"messages\"][-1:])]}\n",
    "\n",
    "# 构建图\n",
    "builder = StateGraph(MessagesState)\n",
    "builder.add_node(\"chat_model\", chat_model_node)\n",
    "builder.add_edge(START, \"chat_model\")\n",
    "builder.add_edge(\"chat_model\", END)\n",
    "graph = builder.compile()\n",
    "\n",
    "# 展示图结构\n",
    "# 图可视化\n",
    "print(\"图可视化：\")\n",
    "\n",
    "# 方案1：尝试使用 Pyppeteer 本地渲染（推荐）\n",
    "try:\n",
    "    # 可视化：通过 Mermaid 渲染图结构\n",
    "    display(Image(graph.get_graph().draw_mermaid_png()))\n",
    "    print(\"✅ 图渲染成功！\")\n",
    "except Exception as e:\n",
    "    print(f\"❌ Pyppeteer 渲染失败: {e}\")\n",
    "    \n",
    "    # 方案2：显示 Mermaid 文本格式\n",
    "    print(\"\\n📝 图结构（Mermaid 文本格式）：\")\n",
    "    print(\"=\" * 50)\n",
    "    mermaid_text = graph.get_graph().draw_mermaid()\n",
    "    print(mermaid_text)\n",
    "    print(\"=\" * 50)\n",
    "    \n",
    "    # 方案3：显示图的节点和边信息\n",
    "    print(\"\\n🔗 图结构信息：\")\n",
    "    print(\"节点:\", list(graph.get_graph().nodes.keys()))\n",
    "    print(\"边:\", list(graph.get_graph().edges))\n",
    "    \n",
    "    # 方案4：提供手动渲染说明\n",
    "    print(\"\\n💡 手动渲染说明：\")\n",
    "    print(\"1. 复制上面的 Mermaid 文本\")\n",
    "    print(\"2. 访问 https://mermaid.live/\")\n",
    "    print(\"3. 粘贴文本到编辑器中查看图形\")\n",
    "    print(\"4. 或者使用支持 Mermaid 的 Markdown 编辑器\")"
   ]
  },
  {
   "cell_type": "markdown",
   "id": "6f58c6fc-532f-418d-b70a-cfcb3307daf5",
   "metadata": {
    "id": "6f58c6fc-532f-418d-b70a-cfcb3307daf5"
   },
   "source": [
    "接下来，我们把现有消息列表继续扩展：先加入上面的 LLM 回复，再追加一个追问。"
   ]
  },
  {
   "cell_type": "code",
   "execution_count": 15,
   "id": "16956015-1dbe-4108-89b5-4209b68b51ca",
   "metadata": {
    "id": "16956015-1dbe-4108-89b5-4209b68b51ca"
   },
   "outputs": [],
   "source": [
    "messages.append(output['messages'][-1])\n",
    "messages.append(HumanMessage(f\"再告诉我一些关于独角鲸的事吧！\", name=\"Lance\"))"
   ]
  },
  {
   "cell_type": "code",
   "execution_count": 16,
   "id": "85563415-c085-46a8-a4ac-155df798c54e",
   "metadata": {
    "colab": {
     "base_uri": "https://localhost:8080/"
    },
    "id": "85563415-c085-46a8-a4ac-155df798c54e",
    "outputId": "cc792e3f-a61c-4047-8954-74b6620fd095"
   },
   "outputs": [
    {
     "name": "stdout",
     "output_type": "stream",
     "text": [
      "==================================\u001b[1m Ai Message \u001b[0m==================================\n",
      "Name: Bot\n",
      "\n",
      "你好。\n",
      "================================\u001b[1m Human Message \u001b[0m=================================\n",
      "Name: Lance\n",
      "\n",
      "你好。\n",
      "==================================\u001b[1m Ai Message \u001b[0m==================================\n",
      "Name: Bot\n",
      "\n",
      "你之前说你在研究海洋哺乳动物，对吗？\n",
      "================================\u001b[1m Human Message \u001b[0m=================================\n",
      "Name: Lance\n",
      "\n",
      "是的，我知道鲸鱼。但我还应该了解哪些其他的？\n",
      "==================================\u001b[1m Ai Message \u001b[0m==================================\n",
      "\n",
      "除了鲸鱼之外，还有几种主要的海洋哺乳动物值得了解。以下是一些类别和例子：\n",
      "\n",
      "### 1. **海豚和鼠海豚**\n",
      "   - **海豚**：海豚属于齿鲸家族，种类众多，比如瓶鼻海豚、虎鲸（虽然我们常叫它“杀人鲸”，但其实是大型海豚）。它们聪明、社交性强。\n",
      "   - **鼠海豚**：鼠海豚与海豚类似，但通常体型更小，头部样子更圆。\n",
      "\n",
      "### 2. **海豹**\n",
      "   - 海豹是鳍足动物的一部分，主要生活在寒冷地区，能够在水中和陆地上活动。\n",
      "   - 比如：斑海豹（常见于北半球）、南极的豹海豹。\n",
      "\n",
      "### 3. **海狮与北极熊**\n",
      "   - **海狮**：身体柔软、灵活，可以在陆地上移动，叫声非常响亮，比如加州海狮。\n",
      "   - **北极熊**：虽然北极熊是陆地哺乳动物，但它们被认为与海洋高度相关，因为其捕食主要依赖北极冰和水域。\n",
      "\n",
      "### 4. **儒艮和海牛**\n",
      "   - **儒艮**：美人鱼的传说可能就源自它们。它们吃海草，生活在浅水近岸地区。\n",
      "   - **海牛**（比如佛罗里达海牛）：与儒艮类似，但体型更大，分布范围较广。\n",
      "\n",
      "### 5. **海獭**\n",
      "   - 海獭是一种小型哺乳动物，喜欢漂浮在水面，用石头敲击贝壳来获取食物。\n",
      "   - 虽然动作可爱，但它们其实是生态的重要一环，促进海洋生物多样性。\n",
      "\n",
      "### 6. **鲸类**\n",
      "   - 除了常见的座头鲸、蓝鲸，你还可以了解其他种类，比如抹香鲸（深海潜水猎食墨鱼）和白鲸（“海中的金丝雀”，因会发出“歌声”）。\n",
      "\n",
      "这些动物都在不同的海洋生态系统中扮演着重要的角色。你可以研究它们的饮食、栖息地、社会行为以及它们面临的威胁（比如过度捕捞、污染和气候变化）。如果你对其中的某一种特别感兴趣，我可以帮助你深入讨论哦！\n",
      "================================\u001b[1m Human Message \u001b[0m=================================\n",
      "Name: Lance\n",
      "\n",
      "再告诉我一些关于独角鲸的事吧！\n"
     ]
    }
   ],
   "source": [
    "for m in messages:\n",
    "    m.pretty_print()"
   ]
  },
  {
   "cell_type": "code",
   "execution_count": 17,
   "id": "23349705-a059-47b5-9760-d8f64e687393",
   "metadata": {
    "colab": {
     "base_uri": "https://localhost:8080/"
    },
    "id": "23349705-a059-47b5-9760-d8f64e687393",
    "outputId": "a54ab476-d742-47c8-86ca-3d5c35deaaee"
   },
   "outputs": [
    {
     "name": "stdout",
     "output_type": "stream",
     "text": [
      "==================================\u001b[1m Ai Message \u001b[0m==================================\n",
      "Name: Bot\n",
      "\n",
      "你好。\n",
      "================================\u001b[1m Human Message \u001b[0m=================================\n",
      "Name: Lance\n",
      "\n",
      "你好。\n",
      "==================================\u001b[1m Ai Message \u001b[0m==================================\n",
      "Name: Bot\n",
      "\n",
      "你之前说你在研究海洋哺乳动物，对吗？\n",
      "================================\u001b[1m Human Message \u001b[0m=================================\n",
      "Name: Lance\n",
      "\n",
      "是的，我知道鲸鱼。但我还应该了解哪些其他的？\n",
      "==================================\u001b[1m Ai Message \u001b[0m==================================\n",
      "\n",
      "除了鲸鱼之外，还有几种主要的海洋哺乳动物值得了解。以下是一些类别和例子：\n",
      "\n",
      "### 1. **海豚和鼠海豚**\n",
      "   - **海豚**：海豚属于齿鲸家族，种类众多，比如瓶鼻海豚、虎鲸（虽然我们常叫它“杀人鲸”，但其实是大型海豚）。它们聪明、社交性强。\n",
      "   - **鼠海豚**：鼠海豚与海豚类似，但通常体型更小，头部样子更圆。\n",
      "\n",
      "### 2. **海豹**\n",
      "   - 海豹是鳍足动物的一部分，主要生活在寒冷地区，能够在水中和陆地上活动。\n",
      "   - 比如：斑海豹（常见于北半球）、南极的豹海豹。\n",
      "\n",
      "### 3. **海狮与北极熊**\n",
      "   - **海狮**：身体柔软、灵活，可以在陆地上移动，叫声非常响亮，比如加州海狮。\n",
      "   - **北极熊**：虽然北极熊是陆地哺乳动物，但它们被认为与海洋高度相关，因为其捕食主要依赖北极冰和水域。\n",
      "\n",
      "### 4. **儒艮和海牛**\n",
      "   - **儒艮**：美人鱼的传说可能就源自它们。它们吃海草，生活在浅水近岸地区。\n",
      "   - **海牛**（比如佛罗里达海牛）：与儒艮类似，但体型更大，分布范围较广。\n",
      "\n",
      "### 5. **海獭**\n",
      "   - 海獭是一种小型哺乳动物，喜欢漂浮在水面，用石头敲击贝壳来获取食物。\n",
      "   - 虽然动作可爱，但它们其实是生态的重要一环，促进海洋生物多样性。\n",
      "\n",
      "### 6. **鲸类**\n",
      "   - 除了常见的座头鲸、蓝鲸，你还可以了解其他种类，比如抹香鲸（深海潜水猎食墨鱼）和白鲸（“海中的金丝雀”，因会发出“歌声”）。\n",
      "\n",
      "这些动物都在不同的海洋生态系统中扮演着重要的角色。你可以研究它们的饮食、栖息地、社会行为以及它们面临的威胁（比如过度捕捞、污染和气候变化）。如果你对其中的某一种特别感兴趣，我可以帮助你深入讨论哦！\n",
      "================================\u001b[1m Human Message \u001b[0m=================================\n",
      "Name: Lance\n",
      "\n",
      "再告诉我一些关于独角鲸的事吧！\n",
      "==================================\u001b[1m Ai Message \u001b[0m==================================\n",
      "\n",
      "当然可以！独角鲸是一种非常有趣且神秘的海洋哺乳动物，也是海洋生态系统中最独特的成员之一。以下是一些关于独角鲸的知识：\n",
      "\n",
      "### 1. **独角鲸的分类与外形特点**\n",
      "- **学名**：Monodon monoceros，意为“单牙独角”。\n",
      "- **分类**：独角鲸属于齿鲸类，和白鲸是近亲。\n",
      "- **特点**：雄性独角鲸最显著的特征是头上那根螺旋状长角，实际上这是一颗长达两三米的牙齿。雌性独角鲸一般没有这样的“牙角”，但少数情况下可能也会成长出小型的牙。\n",
      "\n",
      "### 2. **独角的作用**\n",
      "独角鲸的“角”其实是其左边的犬齿向外延伸形成的螺旋状结构。科学家们仍在研究其用途，目前的理论包括：\n",
      "- **感觉器官**：独角上有数百万个神经末梢，能感知水的温度、压力和盐度。\n",
      "- **繁殖与地位**：独角在雄性独角鲸间可能用于显示优势和吸引配偶。\n",
      "- **作战工具**：在极少数情况下，雄性独角鲸可能会用“角”来互相碰撞。\n",
      "\n",
      "### 3. **栖息地与分布**\n",
      "独角鲸主要生活在北极及其附近地区，包括加拿大、俄罗斯、格陵兰和挪威的极地海域。它们喜欢寒冷、高盐度的水域，通常会在浮冰之间活动。\n",
      "\n",
      "### 4. **饮食习性**\n",
      "独角鲸主要以鱼类和甲壳类动物为食，包括鳕鱼、比目鱼、鱿鱼等。它们利用声呐（回声定位）系统来寻找猎物。\n",
      "\n",
      "### 5. **生活习性**\n",
      "独角鲸通常以群体形式活动，群体大小可以从几头到几十头不等。在夏季，它们会聚集在冰端附近，而冬季则会在冰下游荡。\n",
      "\n",
      "### 6. **保护现状**\n",
      "独角鲸是极地生态系统中重要的物种，但由于气候变化导致冰层减少、栖息环境恶化，加上人类活动的干扰（如猎捕和污染），独角鲸的生存面临一定的威胁。国际自然保护联盟（IUCN）将其列为“近危”物种。\n",
      "\n",
      "### 7. **神话与文化意义**\n",
      "独角鲸的“角”在中世纪常被误认为是“独角兽的角”，并且作为珍贵护身符受到贵族的热爱。这种误解为独角鲸增添了许多传奇色彩。而在现代文化中，独角鲸常常被认为是象征奇迹和魔法的动物。\n",
      "\n",
      "独角鲸的生活有许多未解之谜，它们生动地诠释了自然界的神奇！如果你想了解更多，随时可以继续咨询哦！\n"
     ]
    }
   ],
   "source": [
    "# Invoke, using message filtering\n",
    "output = graph.invoke({'messages': messages})\n",
    "for m in output['messages']:\n",
    "    m.pretty_print()"
   ]
  },
  {
   "cell_type": "markdown",
   "id": "42e1d8d2-e297-4d78-b54c-d12b3c866745",
   "metadata": {
    "id": "42e1d8d2-e297-4d78-b54c-d12b3c866745"
   },
   "source": [
    "图状态中仍然保存着全部消息。\n",
    "\n",
    "不过，从 LangSmith 的追踪可以看到：模型实际调用时只使用了最后一条消息。\n",
    "\n",
    "https://smith.langchain.com/o/7bfa9385-4ac5-468a-a06c-ffd7dbac42ec/projects/p/27f0e396-e7ab-4eac-9501-8df28b729149?timeModel=%7B%22duration%22%3A%227d%22%7D&peek=a259df5e-be5d-44ff-80cd-0817ff45db32&peeked_trace=bb929d45-e3a6-4a4a-a1c5-4f34c3860f47\n",
    "\n",
    "![image-20251004065444998](https://cdn.jsdelivr.net/gh/Fly0905/note-picture@main/imag/202510040654664.png)"
   ]
  },
  {
   "cell_type": "markdown",
   "id": "fc40d930-3c1f-47fe-8d2a-ce174873353c",
   "metadata": {
    "id": "fc40d930-3c1f-47fe-8d2a-ce174873353c"
   },
   "source": [
    "## 裁剪消息（Trim Messages）\n",
    "\n",
    "另一种方式是按令牌数对历史进行“裁剪”（trim）：即通过 [`trim_messages`](https://python.langchain.com/v0.2/docs/how_to/trim_messages/#getting-the-last-max_tokens-tokens) 限制用于本次回复的历史消息总令牌数。\n",
    "\n",
    "- 过滤（filter）：只是事后挑选一部分消息传给模型；\n",
    "- 裁剪（trim）：从头/尾等策略出发，严格限制可用的历史上下文所占令牌数。\n",
    "\n",
    "下面演示如何使用 `trim_messages`。"
   ]
  },
  {
   "cell_type": "code",
   "execution_count": 18,
   "id": "2ff99b81-cf03-4cc2-b44f-44829a73e1fd",
   "metadata": {
    "colab": {
     "base_uri": "https://localhost:8080/",
     "height": 251
    },
    "id": "2ff99b81-cf03-4cc2-b44f-44829a73e1fd",
    "outputId": "01d5e043-6313-4da4-e557-db2851691a64"
   },
   "outputs": [
    {
     "name": "stdout",
     "output_type": "stream",
     "text": [
      "图可视化：\n"
     ]
    },
    {
     "data": {
      "image/png": "[encoded data removed]",
      "text/plain": [
       "<IPython.core.display.Image object>"
      ]
     },
     "metadata": {},
     "output_type": "display_data"
    },
    {
     "name": "stdout",
     "output_type": "stream",
     "text": [
      "✅ 图渲染成功！\n"
     ]
    }
   ],
   "source": [
    "from langchain_core.messages import trim_messages\n",
    "\n",
    "# 节点：对“历史消息”按令牌数进行裁剪，再调用模型\n",
    "# - max_tokens：历史消息允许占用的最大 token 数\n",
    "# - strategy：裁剪策略（\"last\" 表示优先保留靠后的消息）\n",
    "# - token_counter：用于估算 token 数的模型或计数器\n",
    "# - allow_partial：为 False 时，不会截断单条消息的一部分（保证每条消息的完整性）\n",
    "def chat_model_node(state: MessagesState):\n",
    "    messages = trim_messages(\n",
    "            state[\"messages\"],\n",
    "            max_tokens=100,\n",
    "            strategy=\"last\",\n",
    "            token_counter=ChatOpenAI(model=\"gpt-4o\"),\n",
    "            allow_partial=False,\n",
    "        )\n",
    "    return {\"messages\": [llm.invoke(messages)]}\n",
    "\n",
    "# 构建图\n",
    "builder = StateGraph(MessagesState)\n",
    "builder.add_node(\"chat_model\", chat_model_node)\n",
    "builder.add_edge(START, \"chat_model\")\n",
    "builder.add_edge(\"chat_model\", END)\n",
    "graph = builder.compile()\n",
    "\n",
    "\n",
    "# 展示图结构\n",
    "# 图可视化\n",
    "print(\"图可视化：\")\n",
    "\n",
    "# 方案1：尝试使用 Pyppeteer 本地渲染（推荐）\n",
    "try:\n",
    "    # 可视化：通过 Mermaid 渲染图结构\n",
    "    display(Image(graph.get_graph().draw_mermaid_png()))\n",
    "    print(\"✅ 图渲染成功！\")\n",
    "except Exception as e:\n",
    "    print(f\"❌ Pyppeteer 渲染失败: {e}\")\n",
    "    \n",
    "    # 方案2：显示 Mermaid 文本格式\n",
    "    print(\"\\n📝 图结构（Mermaid 文本格式）：\")\n",
    "    print(\"=\" * 50)\n",
    "    mermaid_text = graph.get_graph().draw_mermaid()\n",
    "    print(mermaid_text)\n",
    "    print(\"=\" * 50)\n",
    "    \n",
    "    # 方案3：显示图的节点和边信息\n",
    "    print(\"\\n🔗 图结构信息：\")\n",
    "    print(\"节点:\", list(graph.get_graph().nodes.keys()))\n",
    "    print(\"边:\", list(graph.get_graph().edges))\n",
    "    \n",
    "    # 方案4：提供手动渲染说明\n",
    "    print(\"\\n💡 手动渲染说明：\")\n",
    "    print(\"1. 复制上面的 Mermaid 文本\")\n",
    "    print(\"2. 访问 https://mermaid.live/\")\n",
    "    print(\"3. 粘贴文本到编辑器中查看图形\")\n",
    "    print(\"4. 或者使用支持 Mermaid 的 Markdown 编辑器\")"
   ]
  },
  {
   "cell_type": "code",
   "execution_count": 19,
   "id": "24df63ac-da29-4874-b3df-7e390e97cc8a",
   "metadata": {
    "id": "24df63ac-da29-4874-b3df-7e390e97cc8a"
   },
   "outputs": [],
   "source": [
    "messages.append(output['messages'][-1])\n",
    "messages.append(HumanMessage(f\"告诉我海豚在哪里生活！\", name=\"Lance\"))"
   ]
  },
  {
   "cell_type": "code",
   "execution_count": 20,
   "id": "6d9d8971-c75c-43ca-a209-eb1d07b2ead0",
   "metadata": {
    "colab": {
     "base_uri": "https://localhost:8080/"
    },
    "id": "6d9d8971-c75c-43ca-a209-eb1d07b2ead0",
    "outputId": "82e30268-08c3-4ad0-9812-15a56502a810"
   },
   "outputs": [
    {
     "data": {
      "text/plain": [
       "[HumanMessage(content='告诉我海豚在哪里生活！', additional_kwargs={}, response_metadata={}, name='Lance')]"
      ]
     },
     "execution_count": 20,
     "metadata": {},
     "output_type": "execute_result"
    }
   ],
   "source": [
    "# Example of trimming messages\n",
    "trim_messages(\n",
    "            messages,\n",
    "            max_tokens=100,\n",
    "            strategy=\"last\",\n",
    "            token_counter=ChatOpenAI(model=\"gpt-4o\"),\n",
    "            allow_partial=False\n",
    "        )"
   ]
  },
  {
   "cell_type": "code",
   "execution_count": 21,
   "id": "ed70a269-a869-4fa0-a1df-29736a432c51",
   "metadata": {
    "colab": {
     "base_uri": "https://localhost:8080/"
    },
    "id": "ed70a269-a869-4fa0-a1df-29736a432c51",
    "outputId": "a3aa43b7-7b84-44b0-c27f-971c6e1df9ac"
   },
   "outputs": [],
   "source": [
    "# Invoke, using message trimming in the chat_model_node\n",
    "messages_out_trim = graph.invoke({'messages': messages})"
   ]
  },
  {
   "cell_type": "code",
   "execution_count": 22,
   "id": "6a913de0-b318-4e69-b521-15c3f0b0b618",
   "metadata": {},
   "outputs": [
    {
     "name": "stdout",
     "output_type": "stream",
     "text": [
      "==================================\u001b[1m Ai Message \u001b[0m==================================\n",
      "Name: Bot\n",
      "\n",
      "你好。\n",
      "================================\u001b[1m Human Message \u001b[0m=================================\n",
      "Name: Lance\n",
      "\n",
      "你好。\n",
      "==================================\u001b[1m Ai Message \u001b[0m==================================\n",
      "Name: Bot\n",
      "\n",
      "你之前说你在研究海洋哺乳动物，对吗？\n",
      "================================\u001b[1m Human Message \u001b[0m=================================\n",
      "Name: Lance\n",
      "\n",
      "是的，我知道鲸鱼。但我还应该了解哪些其他的？\n",
      "==================================\u001b[1m Ai Message \u001b[0m==================================\n",
      "\n",
      "除了鲸鱼之外，还有几种主要的海洋哺乳动物值得了解。以下是一些类别和例子：\n",
      "\n",
      "### 1. **海豚和鼠海豚**\n",
      "   - **海豚**：海豚属于齿鲸家族，种类众多，比如瓶鼻海豚、虎鲸（虽然我们常叫它“杀人鲸”，但其实是大型海豚）。它们聪明、社交性强。\n",
      "   - **鼠海豚**：鼠海豚与海豚类似，但通常体型更小，头部样子更圆。\n",
      "\n",
      "### 2. **海豹**\n",
      "   - 海豹是鳍足动物的一部分，主要生活在寒冷地区，能够在水中和陆地上活动。\n",
      "   - 比如：斑海豹（常见于北半球）、南极的豹海豹。\n",
      "\n",
      "### 3. **海狮与北极熊**\n",
      "   - **海狮**：身体柔软、灵活，可以在陆地上移动，叫声非常响亮，比如加州海狮。\n",
      "   - **北极熊**：虽然北极熊是陆地哺乳动物，但它们被认为与海洋高度相关，因为其捕食主要依赖北极冰和水域。\n",
      "\n",
      "### 4. **儒艮和海牛**\n",
      "   - **儒艮**：美人鱼的传说可能就源自它们。它们吃海草，生活在浅水近岸地区。\n",
      "   - **海牛**（比如佛罗里达海牛）：与儒艮类似，但体型更大，分布范围较广。\n",
      "\n",
      "### 5. **海獭**\n",
      "   - 海獭是一种小型哺乳动物，喜欢漂浮在水面，用石头敲击贝壳来获取食物。\n",
      "   - 虽然动作可爱，但它们其实是生态的重要一环，促进海洋生物多样性。\n",
      "\n",
      "### 6. **鲸类**\n",
      "   - 除了常见的座头鲸、蓝鲸，你还可以了解其他种类，比如抹香鲸（深海潜水猎食墨鱼）和白鲸（“海中的金丝雀”，因会发出“歌声”）。\n",
      "\n",
      "这些动物都在不同的海洋生态系统中扮演着重要的角色。你可以研究它们的饮食、栖息地、社会行为以及它们面临的威胁（比如过度捕捞、污染和气候变化）。如果你对其中的某一种特别感兴趣，我可以帮助你深入讨论哦！\n",
      "================================\u001b[1m Human Message \u001b[0m=================================\n",
      "Name: Lance\n",
      "\n",
      "再告诉我一些关于独角鲸的事吧！\n",
      "==================================\u001b[1m Ai Message \u001b[0m==================================\n",
      "\n",
      "当然可以！独角鲸是一种非常有趣且神秘的海洋哺乳动物，也是海洋生态系统中最独特的成员之一。以下是一些关于独角鲸的知识：\n",
      "\n",
      "### 1. **独角鲸的分类与外形特点**\n",
      "- **学名**：Monodon monoceros，意为“单牙独角”。\n",
      "- **分类**：独角鲸属于齿鲸类，和白鲸是近亲。\n",
      "- **特点**：雄性独角鲸最显著的特征是头上那根螺旋状长角，实际上这是一颗长达两三米的牙齿。雌性独角鲸一般没有这样的“牙角”，但少数情况下可能也会成长出小型的牙。\n",
      "\n",
      "### 2. **独角的作用**\n",
      "独角鲸的“角”其实是其左边的犬齿向外延伸形成的螺旋状结构。科学家们仍在研究其用途，目前的理论包括：\n",
      "- **感觉器官**：独角上有数百万个神经末梢，能感知水的温度、压力和盐度。\n",
      "- **繁殖与地位**：独角在雄性独角鲸间可能用于显示优势和吸引配偶。\n",
      "- **作战工具**：在极少数情况下，雄性独角鲸可能会用“角”来互相碰撞。\n",
      "\n",
      "### 3. **栖息地与分布**\n",
      "独角鲸主要生活在北极及其附近地区，包括加拿大、俄罗斯、格陵兰和挪威的极地海域。它们喜欢寒冷、高盐度的水域，通常会在浮冰之间活动。\n",
      "\n",
      "### 4. **饮食习性**\n",
      "独角鲸主要以鱼类和甲壳类动物为食，包括鳕鱼、比目鱼、鱿鱼等。它们利用声呐（回声定位）系统来寻找猎物。\n",
      "\n",
      "### 5. **生活习性**\n",
      "独角鲸通常以群体形式活动，群体大小可以从几头到几十头不等。在夏季，它们会聚集在冰端附近，而冬季则会在冰下游荡。\n",
      "\n",
      "### 6. **保护现状**\n",
      "独角鲸是极地生态系统中重要的物种，但由于气候变化导致冰层减少、栖息环境恶化，加上人类活动的干扰（如猎捕和污染），独角鲸的生存面临一定的威胁。国际自然保护联盟（IUCN）将其列为“近危”物种。\n",
      "\n",
      "### 7. **神话与文化意义**\n",
      "独角鲸的“角”在中世纪常被误认为是“独角兽的角”，并且作为珍贵护身符受到贵族的热爱。这种误解为独角鲸增添了许多传奇色彩。而在现代文化中，独角鲸常常被认为是象征奇迹和魔法的动物。\n",
      "\n",
      "独角鲸的生活有许多未解之谜，它们生动地诠释了自然界的神奇！如果你想了解更多，随时可以继续咨询哦！\n",
      "================================\u001b[1m Human Message \u001b[0m=================================\n",
      "Name: Lance\n",
      "\n",
      "告诉我海豚在哪里生活！\n",
      "==================================\u001b[1m Ai Message \u001b[0m==================================\n",
      "\n",
      "海豚广泛分布于全球温暖的海洋和沿海地区，它们主要生活在以下几种环境中：\n",
      "\n",
      "1. **热带和温带海洋**  \n",
      "   大多数海豚生活在热带和温带地区的海洋中，比如加勒比海、印度洋、太平洋和大西洋。这些地区食物充足，气候适宜，是海豚理想的栖息地。\n",
      "\n",
      "2. **沿海区域**  \n",
      "   许多海豚靠近海岸线生活，比如浅水区、海湾和河口。沿海区域通常食物丰富，同时比较安全，适合它们繁殖和育幼。\n",
      "\n",
      "3. **深海区域**  \n",
      "   一些种类的海豚，例如宽吻海豚，也会活跃在深海。然而，它们会选择靠近鱼群聚集的位置进食，有时会出现在海底峡谷的区域。\n",
      "\n",
      "4. **淡水环境**  \n",
      "   少数几种海豚，例如亚马逊河豚和恒河豚，生活在淡水河流和湖泊中。这些淡水海豚栖息在南美洲的亚马逊河流域和亚洲的大型河流中，它们已经适应了这样的环境。\n",
      "\n",
      "**常见种类与分布**：\n",
      "- 宽吻海豚是最常见的种类，分布范围极广，几乎遍布全球温暖海域。\n",
      "- 虎鲸（虽然属于海豚科）分布从极地到热带海域，适应能力极强。\n",
      "- 亚马逊河豚主要生活在南美洲的河流中。\n",
      "\n",
      "所以，总结来说，海豚可以在海洋中的沿海、深海及部分淡水区域找到它们的踪迹！\n"
     ]
    }
   ],
   "source": [
    "for m in messages_out_trim['messages']:\n",
    "    m.pretty_print()"
   ]
  },
  {
   "cell_type": "markdown",
   "id": "38b3db67-380e-46b5-9a6a-20100ba52008",
   "metadata": {
    "id": "38b3db67-380e-46b5-9a6a-20100ba52008"
   },
   "source": [
    "最后，我们再通过 LangSmith 追踪看看本次模型调用的实际入参情况：\n",
    "\n",
    "![image-20251004070203440](https://cdn.jsdelivr.net/gh/Fly0905/note-picture@main/imag/202510040702041.png)"
   ]
  },
  {
   "cell_type": "code",
   "execution_count": null,
   "id": "b6b5c969-ffb0-46af-ad4a-20527e705252",
   "metadata": {},
   "outputs": [],
   "source": []
  }
 ],
 "metadata": {
  "colab": {
   "include_colab_link": true,
   "provenance": []
  },
  "kernelspec": {
   "display_name": "Python (agent101)",
   "language": "python",
   "name": "agent101"
  },
  "language_info": {
   "codemirror_mode": {
    "name": "ipython",
    "version": 3
   },
   "file_extension": ".py",
   "mimetype": "text/x-python",
   "name": "python",
   "nbconvert_exporter": "python",
   "pygments_lexer": "ipython3",
   "version": "3.10.18"
  }
 },
 "nbformat": 4,
 "nbformat_minor": 5
}
